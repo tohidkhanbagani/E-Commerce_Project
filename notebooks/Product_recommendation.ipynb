{
 "cells": [
  {
   "cell_type": "markdown",
   "id": "7c30c79e",
   "metadata": {},
   "source": [
    "# Pre-Requisits"
   ]
  },
  {
   "cell_type": "markdown",
   "id": "bfa53f3b",
   "metadata": {},
   "source": [
    "### Importing Libraries and Data Loading"
   ]
  },
  {
   "cell_type": "code",
   "execution_count": null,
   "id": "1858177a",
   "metadata": {},
   "outputs": [
    {
     "name": "stderr",
     "output_type": "stream",
     "text": [
      "c:\\Users\\tohid\\OneDrive\\Desktop\\Data Analysis\\Project\\E-Commerce Project\\.venv\\Lib\\site-packages\\tqdm\\auto.py:21: TqdmWarning: IProgress not found. Please update jupyter and ipywidgets. See https://ipywidgets.readthedocs.io/en/stable/user_install.html\n",
      "  from .autonotebook import tqdm as notebook_tqdm\n"
     ]
    }
   ],
   "source": [
    "import pandas as pd\n",
    "import numpy as np\n",
    "import datetime as dt\n",
    "\n",
    "import implicit\n",
    "import scipy.sparse as sparse\n",
    "\n",
    "import matplotlib.pyplot as plt\n",
    "import seaborn as sns\n",
    "import warnings\n",
    "\n",
    "from sklearn.preprocessing import normalize\n",
    "from sklearn.model_selection import train_test_split\n",
    "from sklearn.metrics.pairwise import cosine_similarity\n",
    "\n",
    "warnings.filterwarnings('ignore')\n",
    "pd.set_option('display.max_columns', None)\n",
    "\n",
    "\n",
    "df = pd.read_csv(\"C:/Users/tohid/OneDrive/Desktop/Data Analysis/Project/E-Commerce Project/data/raw/E-Commerce_data.csv\")\n",
    "print(df.shape)"
   ]
  },
  {
   "cell_type": "code",
   "execution_count": null,
   "id": "956ef38b",
   "metadata": {},
   "outputs": [],
   "source": [
    "# Transforming Columns to DateTime\n",
    "df[\"purchase_date\"] = pd.to_datetime(df[\"purchase_date\"])\n",
    "df[\"return_date\"] = pd.to_datetime(df[\"return_date\"], errors=\"coerce\")"
   ]
  },
  {
   "cell_type": "code",
   "execution_count": null,
   "id": "11327970",
   "metadata": {},
   "outputs": [],
   "source": [
    "# Including Related Columns\n",
    "model_data = df[\n",
    "    ['id','returning','product','category','purchase_amount','purchase_date','returned','return_date']\n",
    "    ].copy()\n",
    "# Filling missing values\n",
    "model_data['return_date'] = model_data['return_date'].fillna(\"Not-Returned\")\n",
    "# model_data.head(10)"
   ]
  },
  {
   "cell_type": "markdown",
   "id": "013fbfc8",
   "metadata": {},
   "source": [
    "# Model Building\n"
   ]
  },
  {
   "cell_type": "markdown",
   "id": "6ab87539",
   "metadata": {},
   "source": [
    "### User Based Product Recommendation"
   ]
  },
  {
   "cell_type": "code",
   "execution_count": null,
   "id": "6b16ab9c",
   "metadata": {},
   "outputs": [
    {
     "data": {
      "text/plain": [
       "(2230742, 8)"
      ]
     },
     "execution_count": 4,
     "metadata": {},
     "output_type": "execute_result"
    }
   ],
   "source": [
    "## Filtering Data for Returned Items\n",
    "fd = model_data[(model_data['returned']!='refund') & (model_data['returned']!='exchange')]\n",
    "fd.shape"
   ]
  },
  {
   "cell_type": "code",
   "execution_count": 5,
   "id": "178921bb",
   "metadata": {},
   "outputs": [],
   "source": [
    "# Dataset Copy with filtered columns\n",
    "cf_data = fd[['id','product', 'purchase_amount']].copy()"
   ]
  },
  {
   "cell_type": "code",
   "execution_count": 6,
   "id": "e1352fe7",
   "metadata": {},
   "outputs": [],
   "source": [
    "purchase_counts = cf_data.groupby('id').size()\n",
    "high_purchase_ids = purchase_counts[purchase_counts>4].index\n",
    "filtered_cf = cf_data[cf_data['id'].isin(high_purchase_ids)]\n",
    "low_purchase_data = cf_data[~cf_data['id'].isin(high_purchase_ids)]\n",
    "low_purchase_data = low_purchase_data.groupby(['id','product'])['purchase_amount'].sum().reset_index()"
   ]
  },
  {
   "cell_type": "code",
   "execution_count": 7,
   "id": "1e6c1db2",
   "metadata": {},
   "outputs": [],
   "source": [
    "np.random.seed(42)\n",
    "split_mask = filtered_cf.groupby('id')['purchase_amount'].transform(lambda x: np.random.rand(len(x))<0.8)\n",
    "train_data = filtered_cf[split_mask]\n",
    "test_data = filtered_cf[~split_mask]"
   ]
  },
  {
   "cell_type": "code",
   "execution_count": 9,
   "id": "1948a42b",
   "metadata": {},
   "outputs": [],
   "source": [
    "test_data_2 = test_data.copy()\n",
    "test_data_2 = pd.concat([test_data_2, low_purchase_data])\n",
    "test_data_2 = test_data_2.sample(frac=1).reset_index(drop=True)"
   ]
  },
  {
   "cell_type": "code",
   "execution_count": 10,
   "id": "8578a636",
   "metadata": {},
   "outputs": [],
   "source": [
    "train_pivot = train_data.pivot_table(index='id',columns='product',values='purchase_amount',aggfunc='count',fill_value=0)\n",
    "test_pivot = test_data.pivot_table(index='id',columns='product',values='purchase_amount',aggfunc='count',fill_value=0)\n",
    "data = data.pivot_table(index='id',columns='product',values='purchase_amount',aggfunc='count',fill_value=0)"
   ]
  },
  {
   "cell_type": "code",
   "execution_count": 11,
   "id": "f44d2d14",
   "metadata": {},
   "outputs": [],
   "source": [
    "test_pivot = test_pivot.reindex(columns=train_pivot.columns,fill_value=0)"
   ]
  },
  {
   "cell_type": "code",
   "execution_count": 12,
   "id": "cc93505f",
   "metadata": {},
   "outputs": [],
   "source": [
    "train_csr = sparse.csr_matrix(train_pivot.values)\n",
    "test_csr = sparse.csr_matrix(test_pivot.values)"
   ]
  },
  {
   "cell_type": "code",
   "execution_count": 13,
   "id": "dfdf353a",
   "metadata": {},
   "outputs": [],
   "source": [
    "def simple_evaluation(test_csr, predictions, k):\n",
    "    \"\"\"\n",
    "    Evaluate recommendations using average Precision@k and Recall@k.\n",
    "    \n",
    "    Parameters:\n",
    "      test_csr: 2D array or CSR matrix of actual user-item interactions (n_users x n_items).\n",
    "      predictions: 2D array where each row contains recommended item indices for the corresponding user.\n",
    "      k: Number of top recommendations to consider.\n",
    "    \n",
    "    Returns:\n",
    "      avg_precision: Average Precision@k over all users in the predictions array.\n",
    "      avg_recall: Average Recall@k over all users in the predictions array.\n",
    "    \"\"\"\n",
    "    # Iterate only over the number of rows present in predictions.\n",
    "    n_users = predictions.shape[0]\n",
    "    precisions = []\n",
    "    recalls = []\n",
    "    \n",
    "    for user in range(n_users):\n",
    "        # If using a CSR matrix, convert the row to a dense array.\n",
    "        if hasattr(test_csr[user], \"toarray\"):\n",
    "            user_actual = test_csr[user].toarray()[0]\n",
    "        else:\n",
    "            user_actual = test_csr[user] \n",
    "        \n",
    "        # Get the indices of items with interactions.\n",
    "        actual_items = set(np.where(user_actual > 0)[0])\n",
    "        # Get the top-K predicted item indices for the user.\n",
    "        recommended_items = set(predictions[user][:k])\n",
    "        \n",
    "        # Count how many recommended items are in the actual interactions.\n",
    "        hits = len(actual_items & recommended_items)\n",
    "        \n",
    "        # Compute precision and recall.\n",
    "        precision = hits / k\n",
    "        recall = hits / len(actual_items) if actual_items else 0\n",
    "        \n",
    "        precisions.append(precision)\n",
    "        recalls.append(recall)\n",
    "    \n",
    "    avg_precision = np.mean(precisions)\n",
    "    avg_recall = np.mean(recalls)\n",
    "    \n",
    "    return avg_precision, avg_recall\n",
    "\n",
    "\n",
    "def evaluate_ranking_metrics(test_csr, predictions, k):\n",
    "    \"\"\"\n",
    "    Evaluate ranking metrics: Mean Average Precision (MAP@k) and NDCG@k.\n",
    "    \n",
    "    Parameters:\n",
    "      test_csr: 2D array or CSR matrix of actual user-item interactions \n",
    "                (shape: n_users x n_items).\n",
    "      predictions: 2D array where each row contains recommended item indices \n",
    "                   for the corresponding user.\n",
    "      k: Number of top recommendations to consider.\n",
    "    \n",
    "    Returns:\n",
    "      avg_map: Mean Average Precision at k over all users.\n",
    "      avg_ndcg: Mean Normalized Discounted Cumulative Gain at k over all users.\n",
    "    \"\"\"\n",
    "    map_scores = []\n",
    "    ndcg_scores = []\n",
    "    n_users = predictions.shape[0]\n",
    "    \n",
    "    for user in range(n_users):\n",
    "        # Convert sparse row to dense array if necessary.\n",
    "        if hasattr(test_csr[user], \"toarray\"):\n",
    "            user_actual = test_csr[user].toarray()[0]\n",
    "        else:\n",
    "            user_actual = test_csr[user]\n",
    "            \n",
    "        # Identify items with interactions.\n",
    "        actual_items = set(np.where(user_actual > 0)[0])\n",
    "        if not actual_items:\n",
    "            # Skip users with no interactions in the test set.\n",
    "            continue\n",
    "        \n",
    "        # ----- MAP@k Calculation -----\n",
    "        num_hits = 0.0\n",
    "        ap = 0.0\n",
    "        for i, pred in enumerate(predictions[user][:k]):\n",
    "            if pred in actual_items:\n",
    "                num_hits += 1\n",
    "                ap += num_hits / (i + 1)\n",
    "        # Average precision: normalize by the number of actual relevant items.\n",
    "        average_precision = ap / len(actual_items)\n",
    "        map_scores.append(average_precision)\n",
    "        \n",
    "        # ----- NDCG@k Calculation -----\n",
    "        dcg = 0.0\n",
    "        for i, pred in enumerate(predictions[user][:k]):\n",
    "            if pred in actual_items:\n",
    "                dcg += 1.0 / np.log2(i + 2)  # i+2 because positions are 1-indexed in the log term.\n",
    "        \n",
    "        # Calculate the ideal DCG (IDCG): best possible ranking of the relevant items.\n",
    "        ideal_hits = min(len(actual_items), k)\n",
    "        idcg = sum(1.0 / np.log2(i + 2) for i in range(ideal_hits))\n",
    "        ndcg = dcg / idcg if idcg > 0 else 0.0\n",
    "        ndcg_scores.append(ndcg)\n",
    "    \n",
    "    avg_map = np.mean(map_scores) if map_scores else 0.0\n",
    "    avg_ndcg = np.mean(ndcg_scores) if ndcg_scores else 0.0\n",
    "    return avg_map, avg_ndcg"
   ]
  },
  {
   "cell_type": "code",
   "execution_count": 23,
   "id": "fc1980bd",
   "metadata": {},
   "outputs": [
    {
     "name": "stderr",
     "output_type": "stream",
     "text": [
      "100%|██████████| 15/15 [00:08<00:00,  1.68it/s, loss=0.0513]\n"
     ]
    }
   ],
   "source": [
    "from implicit.nearest_neighbours import bm25_weight\n",
    "N = 50\n",
    "user_ids = np.arange(len(train_pivot.index))\n",
    "model = implicit.als.AlternatingLeastSquares(factors=5,calculate_training_loss=True)\n",
    "train_csr = bm25_weight(train_csr)\n",
    "model.fit(train_csr)"
   ]
  },
  {
   "cell_type": "code",
   "execution_count": 24,
   "id": "8ff90dfc",
   "metadata": {},
   "outputs": [],
   "source": [
    "predictions = model.recommend_all(user_items=test_csr, N=N, filter_already_liked_items=True)"
   ]
  },
  {
   "cell_type": "code",
   "execution_count": 25,
   "id": "fb7c66eb",
   "metadata": {},
   "outputs": [
    {
     "name": "stdout",
     "output_type": "stream",
     "text": [
      "MAP@50: 0.0000\n",
      "NDCG@50: 0.0000\n",
      "Average Precision@50: 0.0000\n",
      "Average Recall@50: 0.0000\n"
     ]
    }
   ],
   "source": [
    "K = 50\n",
    "avg_precision, avg_recall = simple_evaluation(test_csr, predictions, k=K)\n",
    "avg_map, avg_ndcg = evaluate_ranking_metrics(test_csr, predictions, k=K)\n",
    "print(f\"MAP@{K}: {avg_map:.4f}\")\n",
    "print(f\"NDCG@{K}: {avg_ndcg:.4f}\")\n",
    "print(f\"Average Precision@{K}: {avg_precision:.4f}\")\n",
    "print(f\"Average Recall@{K}: {avg_recall:.4f}\")"
   ]
  },
  {
   "cell_type": "code",
   "execution_count": 17,
   "id": "ed887ff3",
   "metadata": {},
   "outputs": [
    {
     "data": {
      "text/plain": [
       "Index(['Headlight Restoration Kit', 'Convection Oven', 'Brake Pads',\n",
       "       'Dehumidifier', 'Popcorn', 'Dog Collar', 'Tire Shine', 'Kombucha',\n",
       "       'Cat Shampoo', 'Candy', 'Spark Plugs', 'Bread Maker', 'RC Helicopters',\n",
       "       'Acne Treatment', 'Bangle', 'Hamster Cage', 'Hand Cream',\n",
       "       'Utility Knife', 'Car Drying Towel', 'Windshield Washer Fluid'],\n",
       "      dtype='object', name='product')"
      ]
     },
     "execution_count": 17,
     "metadata": {},
     "output_type": "execute_result"
    }
   ],
   "source": [
    "customer_id = np.random.choice(list(test_pivot.index))\n",
    "product_indices, scores = model.recommend(test_pivot.index.get_loc(customer_id),\n",
    "                                          user_items= test_csr[test_pivot.index.get_loc(customer_id)],\n",
    "                                          N=20,\n",
    "                                          filter_already_liked_items=False\n",
    "                                          )\n",
    "\n",
    "test_pivot.columns[product_indices]"
   ]
  },
  {
   "cell_type": "code",
   "execution_count": 18,
   "id": "af7c6dd8",
   "metadata": {},
   "outputs": [
    {
     "name": "stderr",
     "output_type": "stream",
     "text": [
      "100%|██████████| 15/15 [00:31<00:00,  2.09s/it, loss=0.0109]\n"
     ]
    }
   ],
   "source": [
    "data_csr = sparse.csc_matrix(data)\n",
    "model = implicit.als.AlternatingLeastSquares(factors=50,calculate_training_loss=True)\n",
    "model.fit(data_csr)"
   ]
  },
  {
   "cell_type": "code",
   "execution_count": 19,
   "id": "20ce3b79",
   "metadata": {},
   "outputs": [
    {
     "data": {
      "text/plain": [
       "Index(['Stand Mixer', 'Pet Scale', 'Facial Oil', 'Miter Saw', 'Pet Bowls',\n",
       "       'Self-help Books', 'Pet Carrier', 'Water Dispenser', 'Tambourine',\n",
       "       'Soundbar'],\n",
       "      dtype='object', name='product')"
      ]
     },
     "execution_count": 19,
     "metadata": {},
     "output_type": "execute_result"
    }
   ],
   "source": [
    "customer_id = np.random.choice(list(data.index))\n",
    "product_indices, scores = model.recommend(data.index.get_loc(customer_id),\n",
    "                                          user_items= data_csr[data.index.get_loc(customer_id)].tocsr(),\n",
    "                                          N=10,\n",
    "                                          filter_already_liked_items=True\n",
    "                                          )\n",
    "\n",
    "data.columns[product_indices]"
   ]
  }
 ],
 "metadata": {
  "kernelspec": {
   "display_name": ".venv",
   "language": "python",
   "name": "python3"
  },
  "language_info": {
   "codemirror_mode": {
    "name": "ipython",
    "version": 3
   },
   "file_extension": ".py",
   "mimetype": "text/x-python",
   "name": "python",
   "nbconvert_exporter": "python",
   "pygments_lexer": "ipython3",
   "version": "3.12.9"
  }
 },
 "nbformat": 4,
 "nbformat_minor": 5
}
